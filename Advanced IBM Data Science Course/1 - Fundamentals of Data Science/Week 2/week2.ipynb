{
 "cells": [
  {
   "cell_type": "code",
   "execution_count": 11,
   "metadata": {},
   "outputs": [
    {
     "ename": "SyntaxError",
     "evalue": "unterminated string literal (detected at line 6) (1493521730.py, line 6)",
     "output_type": "error",
     "traceback": [
      "\u001b[1;36m  Cell \u001b[1;32mIn[11], line 6\u001b[1;36m\u001b[0m\n\u001b[1;33m    os.environ[\"JAVA_HOME\"] = r\"C:\\Java\\jre1.8.0_311\u001b[0m\n\u001b[1;37m                              ^\u001b[0m\n\u001b[1;31mSyntaxError\u001b[0m\u001b[1;31m:\u001b[0m unterminated string literal (detected at line 6)\n"
     ]
    }
   ],
   "source": [
    "# Import libraries and pyspark.\n",
    "import finspark\n",
    "from pyspark import SparkContext\n",
    "# Crea un contexto de Spark\n",
    "sc = SparkContext(\"local\", \"EjemploPySpark\")"
   ]
  },
  {
   "cell_type": "markdown",
   "metadata": {},
   "source": [
    "# Mean"
   ]
  },
  {
   "cell_type": "code",
   "execution_count": 12,
   "metadata": {},
   "outputs": [
    {
     "name": "stdout",
     "output_type": "stream",
     "text": [
      "Sample Kurtosis: 0.663124005193275\n",
      "Population Kurtosis: 3.663124005193275\n"
     ]
    }
   ],
   "source": [
    "from scipy.stats import kurtosis\n",
    "\n",
    "data = [34, 1, 23, 4, 3, 3, 12, 4, 3, 1]\n",
    "\n",
    "# Calculate kurtosis\n",
    "sample_kurtosis = kurtosis(data)\n",
    "\n",
    "print(\"Sample Kurtosis:\", sample_kurtosis)\n",
    "\n",
    "# If you want population kurtosis\n",
    "population_kurtosis = kurtosis(data, fisher=False)\n",
    "\n",
    "print(\"Population Kurtosis:\", population_kurtosis)\n",
    "\n"
   ]
  },
  {
   "cell_type": "code",
   "execution_count": 13,
   "metadata": {},
   "outputs": [
    {
     "name": "stdout",
     "output_type": "stream",
     "text": [
      "Correlation: 0.7092729120837249\n"
     ]
    }
   ],
   "source": [
    "import numpy as np\n",
    "\n",
    "# Your data\n",
    "dataX = [1, 2, 3, 4, 5, 6, 7, 8, 9, 10]\n",
    "dataY = [7, 6, 5, 4, 5, 6, 7, 8, 9, 10]\n",
    "\n",
    "# Calculate correlation using numpy\n",
    "correlation = np.corrcoef(dataX, dataY)[0, 1]\n",
    "\n",
    "print(\"Correlation: {}\".format(correlation))\n"
   ]
  }
 ],
 "metadata": {
  "kernelspec": {
   "display_name": "Python 3",
   "language": "python",
   "name": "python3"
  },
  "language_info": {
   "codemirror_mode": {
    "name": "ipython",
    "version": 3
   },
   "file_extension": ".py",
   "mimetype": "text/x-python",
   "name": "python",
   "nbconvert_exporter": "python",
   "pygments_lexer": "ipython3",
   "version": "3.10.10"
  }
 },
 "nbformat": 4,
 "nbformat_minor": 2
}
