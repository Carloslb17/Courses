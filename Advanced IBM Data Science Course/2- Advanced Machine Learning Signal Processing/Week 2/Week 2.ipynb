{
 "cells": [
  {
   "cell_type": "markdown",
   "metadata": {},
   "source": [
    "Scalar calculation"
   ]
  },
  {
   "cell_type": "code",
   "execution_count": null,
   "metadata": {},
   "outputs": [],
   "source": [
    "n=3\n",
    "m=2\n",
    "n * m"
   ]
  },
  {
   "cell_type": "markdown",
   "metadata": {},
   "source": [
    "Matrix Calculation Multiplication\n",
    "\n",
    "\n",
    "             [2] \n",
    "[ 1 1 13 ]   [3]     [1*2+1*3+13*5]   [70]\n",
    "[ 6 1 17 ]   [5]  =  [6*2+1*3+17*5] = [100]"
   ]
  },
  {
   "cell_type": "code",
   "execution_count": 12,
   "metadata": {},
   "outputs": [],
   "source": [
    "import numpy as np\n",
    "#Vector scalar multiplication\n",
    "\n",
    "a = np.array([1,2,3])\n",
    "b = np.array([4,5,6])"
   ]
  },
  {
   "cell_type": "code",
   "execution_count": 13,
   "metadata": {},
   "outputs": [
    {
     "data": {
      "text/plain": [
       "32"
      ]
     },
     "execution_count": 13,
     "metadata": {},
     "output_type": "execute_result"
    }
   ],
   "source": [
    "a.dot(b)"
   ]
  },
  {
   "cell_type": "code",
   "execution_count": 14,
   "metadata": {},
   "outputs": [],
   "source": [
    "ma = np.array([[1,2,3],[7,8,9]])\n",
    "mb = np.array([4,5,6])"
   ]
  },
  {
   "cell_type": "code",
   "execution_count": null,
   "metadata": {},
   "outputs": [],
   "source": [
    "ma.dot(mb)"
   ]
  },
  {
   "cell_type": "markdown",
   "metadata": {},
   "source": [
    "### Supervised vs Unsupervised Machine Learning\n",
    "\n",
    "Clasifying a label dataset with a continuous value is called Regression\n",
    "\n",
    "Clasifying a label dataset with a Binary value is called Clasification. \n",
    "\n",
    "For high dimensional data we cannot simply plot the high dimensional daatsets, so we use dimension reduction.\n"
   ]
  },
  {
   "cell_type": "markdown",
   "metadata": {},
   "source": [
    "### SystemML \n",
    "\n",
    "Provides a R-like language (DML) for data scientists to implement machine learning algorithms\n",
    "\n",
    "Compiles execution plams ranging from single node to clusers.\n",
    "\n",
    "``` R\n",
    "\n",
    "    X = rand(rows=$nr, cols=100, sparsity=0.5)\n",
    "    A = t(X) %*% X\n",
    "    s = sum(A)\n",
    "\n",
    "```\n",
    "\n"
   ]
  },
  {
   "cell_type": "markdown",
   "metadata": {},
   "source": [
    "## Naive Bayes"
   ]
  },
  {
   "cell_type": "markdown",
   "metadata": {},
   "source": [
    "The Gaussian distribution is used to represent real valued data. \n",
    "\n",
    "Bayesian Inteference  is a method where the peobability of a hyposthesis us updated as new evidence becomes available.\n",
    "\n",
    "Probality of evidence given of the evidence\n",
    "\n",
    "$$ p(H|E) = p(E|H)p(H) / p(E) $$\n",
    "\n",
    "- p(H|E) posterior   \n",
    "- p(E|H)p(H) likelihood       \n",
    "- p(E) prior knowledge\n"
   ]
  },
  {
   "cell_type": "code",
   "execution_count": null,
   "metadata": {},
   "outputs": [],
   "source": []
  },
  {
   "cell_type": "code",
   "execution_count": null,
   "metadata": {},
   "outputs": [],
   "source": []
  }
 ],
 "metadata": {
  "kernelspec": {
   "display_name": "Python 3",
   "language": "python",
   "name": "python3"
  },
  "language_info": {
   "codemirror_mode": {
    "name": "ipython",
    "version": 3
   },
   "file_extension": ".py",
   "mimetype": "text/x-python",
   "name": "python",
   "nbconvert_exporter": "python",
   "pygments_lexer": "ipython3",
   "version": "3.10.10"
  }
 },
 "nbformat": 4,
 "nbformat_minor": 2
}
