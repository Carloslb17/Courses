{
 "cells": [
  {
   "cell_type": "markdown",
   "metadata": {},
   "source": [
    "### Machine Learning models. "
   ]
  },
  {
   "cell_type": "markdown",
   "metadata": {},
   "source": [
    "In this process we will use some machine learning models in order to see how is the performance on each one. "
   ]
  },
  {
   "cell_type": "code",
   "execution_count": 1,
   "metadata": {},
   "outputs": [],
   "source": [
    "import pandas as pd\n"
   ]
  },
  {
   "cell_type": "code",
   "execution_count": 4,
   "metadata": {},
   "outputs": [],
   "source": [
    "\n",
    "\n",
    "df = pd.read_csv(\"../dataset/Test.csv\")"
   ]
  },
  {
   "cell_type": "code",
   "execution_count": 20,
   "metadata": {},
   "outputs": [],
   "source": [
    "df = df.astype(\"float16\")\n"
   ]
  },
  {
   "cell_type": "code",
   "execution_count": 19,
   "metadata": {},
   "outputs": [
    {
     "name": "stdout",
     "output_type": "stream",
     "text": [
      "<class 'pandas.core.frame.DataFrame'>\n",
      "RangeIndex: 5000 entries, 0 to 4999\n",
      "Data columns (total 41 columns):\n",
      " #   Column  Non-Null Count  Dtype  \n",
      "---  ------  --------------  -----  \n",
      " 0   V1      4995 non-null   float32\n",
      " 1   V2      4994 non-null   float32\n",
      " 2   V3      5000 non-null   float32\n",
      " 3   V4      5000 non-null   float32\n",
      " 4   V5      5000 non-null   float32\n",
      " 5   V6      5000 non-null   float32\n",
      " 6   V7      5000 non-null   float32\n",
      " 7   V8      5000 non-null   float32\n",
      " 8   V9      5000 non-null   float32\n",
      " 9   V10     5000 non-null   float32\n",
      " 10  V11     5000 non-null   float32\n",
      " 11  V12     5000 non-null   float32\n",
      " 12  V13     5000 non-null   float32\n",
      " 13  V14     5000 non-null   float32\n",
      " 14  V15     5000 non-null   float32\n",
      " 15  V16     5000 non-null   float32\n",
      " 16  V17     5000 non-null   float32\n",
      " 17  V18     5000 non-null   float32\n",
      " 18  V19     5000 non-null   float32\n",
      " 19  V20     5000 non-null   float32\n",
      " 20  V21     5000 non-null   float32\n",
      " 21  V22     5000 non-null   float32\n",
      " 22  V23     5000 non-null   float32\n",
      " 23  V24     5000 non-null   float32\n",
      " 24  V25     5000 non-null   float32\n",
      " 25  V26     5000 non-null   float32\n",
      " 26  V27     5000 non-null   float32\n",
      " 27  V28     5000 non-null   float32\n",
      " 28  V29     5000 non-null   float32\n",
      " 29  V30     5000 non-null   float32\n",
      " 30  V31     5000 non-null   float32\n",
      " 31  V32     5000 non-null   float32\n",
      " 32  V33     5000 non-null   float32\n",
      " 33  V34     5000 non-null   float32\n",
      " 34  V35     5000 non-null   float32\n",
      " 35  V36     5000 non-null   float32\n",
      " 36  V37     5000 non-null   float32\n",
      " 37  V38     5000 non-null   float32\n",
      " 38  V39     5000 non-null   float32\n",
      " 39  V40     5000 non-null   float32\n",
      " 40  Target  5000 non-null   float32\n",
      "dtypes: float32(41)\n",
      "memory usage: 800.9 KB\n"
     ]
    }
   ],
   "source": [
    "df.info()"
   ]
  },
  {
   "cell_type": "code",
   "execution_count": 7,
   "metadata": {},
   "outputs": [
    {
     "data": {
      "text/plain": [
       "5000"
      ]
     },
     "execution_count": 7,
     "metadata": {},
     "output_type": "execute_result"
    }
   ],
   "source": [
    "from sqlalchemy import create_engine\n",
    "engine = create_engine('sqlite:///data.db', echo=False)\n",
    "\n",
    "df.to_sql('data_1', con=engine, if_exists='append')"
   ]
  }
 ],
 "metadata": {
  "kernelspec": {
   "display_name": "Python 3",
   "language": "python",
   "name": "python3"
  },
  "language_info": {
   "codemirror_mode": {
    "name": "ipython",
    "version": 3
   },
   "file_extension": ".py",
   "mimetype": "text/x-python",
   "name": "python",
   "nbconvert_exporter": "python",
   "pygments_lexer": "ipython3",
   "version": "3.10.10"
  }
 },
 "nbformat": 4,
 "nbformat_minor": 2
}
